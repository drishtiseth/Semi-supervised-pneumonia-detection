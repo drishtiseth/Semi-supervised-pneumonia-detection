{
 "cells": [
  {
   "cell_type": "code",
   "execution_count": 1,
   "metadata": {},
   "outputs": [],
   "source": [
    "import os\n",
    "import shutil\n",
    "import random"
   ]
  },
  {
   "cell_type": "code",
   "execution_count": 2,
   "metadata": {},
   "outputs": [
    {
     "name": "stdout",
     "output_type": "stream",
     "text": [
      "Done! Images shuffled within categories and merged into unlabelled dataset.\n"
     ]
    }
   ],
   "source": [
    "desktop_path = os.path.join(os.path.expanduser(\"~\"), \"Desktop\")\n",
    "dataset_path = os.path.join(desktop_path, \"Dataset xray\")\n",
    "\n",
    "labelled_path = os.path.join(dataset_path, \"Dataset labelled\")\n",
    "unlabelled_path = os.path.join(dataset_path, \"Dataset unlabelled\")\n",
    "\n",
    "pneumonia_path = os.path.join(labelled_path, \"Pneumonia\")\n",
    "normal_path = os.path.join(labelled_path, \"Normal\")\n",
    "\n",
    "# Step 1: Shuffle images within 'pneumonia' and 'normal' folders respectively\n",
    "def shuffle_folder_images(folder_path):\n",
    "    images = [f for f in os.listdir(folder_path) if os.path.isfile(os.path.join(folder_path, f))]\n",
    "    random.shuffle(images)\n",
    "    \n",
    "    # Rename temporarily to preserve shuffle order\n",
    "    for idx, filename in enumerate(images):\n",
    "        old_path = os.path.join(folder_path, filename)\n",
    "        temp_name = f\"temp_{idx}_{filename}\"\n",
    "        temp_path = os.path.join(folder_path, temp_name)\n",
    "        os.rename(old_path, temp_path)\n",
    "\n",
    "    # Rename back to original name order after shuffle\n",
    "    for temp_filename in os.listdir(folder_path):\n",
    "        if temp_filename.startswith(\"temp_\"):\n",
    "            new_filename = temp_filename[5:]  # remove 'temp_' prefix\n",
    "            os.rename(os.path.join(folder_path, temp_filename),\n",
    "                      os.path.join(folder_path, new_filename))\n",
    "\n",
    "shuffle_folder_images(pneumonia_path)\n",
    "shuffle_folder_images(normal_path)\n",
    "\n",
    "# Step 2: Combine all images into 'unlabelled dataset' and shuffle them\n",
    "def copy_and_shuffle_to_unlabelled(src_folders, dest_folder):\n",
    "    if not os.path.exists(dest_folder):\n",
    "        os.makedirs(dest_folder)\n",
    "\n",
    "    # Clear unlabelled dataset folder first\n",
    "    for f in os.listdir(dest_folder):\n",
    "        file_path = os.path.join(dest_folder, f)\n",
    "        if os.path.isfile(file_path):\n",
    "            os.remove(file_path)\n",
    "\n",
    "    all_images = []\n",
    "    for folder in src_folders:\n",
    "        folder_images = [os.path.join(folder, f) for f in os.listdir(folder)\n",
    "                         if os.path.isfile(os.path.join(folder, f))]\n",
    "        all_images.extend(folder_images)\n",
    "\n",
    "    random.shuffle(all_images)\n",
    "\n",
    "    for idx, img_path in enumerate(all_images):\n",
    "        ext = os.path.splitext(img_path)[1]\n",
    "        dest_path = os.path.join(dest_folder, f\"img_{idx}{ext}\")\n",
    "        shutil.copy(img_path, dest_path)\n",
    "\n",
    "copy_and_shuffle_to_unlabelled([pneumonia_path, normal_path], unlabelled_path)\n",
    "\n",
    "print(\"Done! Images shuffled within categories and merged into unlabelled dataset.\")"
   ]
  }
 ],
 "metadata": {
  "kernelspec": {
   "display_name": "env",
   "language": "python",
   "name": "python3"
  },
  "language_info": {
   "codemirror_mode": {
    "name": "ipython",
    "version": 3
   },
   "file_extension": ".py",
   "mimetype": "text/x-python",
   "name": "python",
   "nbconvert_exporter": "python",
   "pygments_lexer": "ipython3",
   "version": "3.12.5"
  }
 },
 "nbformat": 4,
 "nbformat_minor": 2
}
